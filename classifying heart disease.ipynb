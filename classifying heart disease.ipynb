{
 "cells": [
  {
   "attachments": {},
   "cell_type": "markdown",
   "metadata": {},
   "source": [
    "# Classifying Heart Disease using Logistic Regression\n",
    "\n",
    "In this project, we will be using logistic regression modelling to try to predict whether a patient has heart disease. We will be using a [Heart Disease Data Set](https://archive.ics.uci.edu/dataset/45/heart+disease) from UCI Machine Learning Repository. We will be using the Cleveland subset, which the data set description says is standard practice for Machine Learning.\n",
    "\n",
    "The goal is to create a model that can bulk analyse patient data and flag patients that suffer from Heart Disease. If these patients were not already classified as having heart disease, they could be sent to a clinician.\n",
    "\n",
    "For this project, we are focussing on binary classification. The original data set used multi-class classification, so the data set has already been partially cleaned to binary.\n",
    "\n",
    "The features in the partially cleaned data set are:\n",
    "\n",
    "* `age`: age in years\n",
    "* `sex`: sex (1 = male; 0 = female)\n",
    "* `cp`: chest pain type (1 = typical angina; 2 = atypical angina; 3 = non-anginal pain; 4 = asymptomatic)\n",
    "* `trestbps`: resting blood pressure (in mm Hg on admission to the hospital)\n",
    "* `chol`: serum cholesterol in mg/dl\n",
    "* `fbs`: (fasting blood sugar > 120 mg/dl)  (1 = true; 0 = false)\n",
    "* `restecg`: resting electrocardiographic results (0 = normal; 1 = having ST-T wave abnormality (T wave inversions and/or ST elevation or depression of > 0.05 mV); 2 = showing probable or definite left ventricular hypertrophy by Estes' criteria)\n",
    "* `thalach`: maximum heart rate achieved\n",
    "* `exang`: exercise induced angina (1 = yes; 0 = no)\n",
    "* `oldpeak`: ST depression induced by exercise relative to rest\n",
    "* `slope`: the slope of the peak exercise ST segment (0 = upsloping; 1 = flat; 2 = downsloping)\n",
    "* `ca`: number of major vessels (0-3) coloured by fluoroscopy\n",
    "* `thal`: 3 = normal; 6 = fixed defect; 7 = reversible defect\n",
    "* `present`: diagnosis of heart disease (angiographic disease status) (0 = no; 1 = yes)\n",
    "\n",
    "We'll begin by importing our libraries and reading in the data set. Then we'll take perform some exploratory data analysis.\n",
    "\n"
   ]
  },
  {
   "cell_type": "code",
   "execution_count": 1,
   "metadata": {},
   "outputs": [],
   "source": [
    "import pandas as pd\n",
    "import numpy as np\n",
    "import matplotlib.pyplot as plt\n",
    "import seaborn as sns\n",
    "from sklearn.model_selection import train_test_split\n",
    "from sklearn.linear_model import LogisticRegression\n",
    "from sklearn.metrics import confusion_matrix\n",
    "from sklearn.metrics import ConfusionMatrixDisplay\n",
    "\n"
   ]
  },
  {
   "cell_type": "code",
   "execution_count": 2,
   "metadata": {},
   "outputs": [
    {
     "data": {
      "text/html": [
       "<div>\n",
       "<style scoped>\n",
       "    .dataframe tbody tr th:only-of-type {\n",
       "        vertical-align: middle;\n",
       "    }\n",
       "\n",
       "    .dataframe tbody tr th {\n",
       "        vertical-align: top;\n",
       "    }\n",
       "\n",
       "    .dataframe thead th {\n",
       "        text-align: right;\n",
       "    }\n",
       "</style>\n",
       "<table border=\"1\" class=\"dataframe\">\n",
       "  <thead>\n",
       "    <tr style=\"text-align: right;\">\n",
       "      <th></th>\n",
       "      <th>Unnamed: 0</th>\n",
       "      <th>age</th>\n",
       "      <th>sex</th>\n",
       "      <th>cp</th>\n",
       "      <th>trestbps</th>\n",
       "      <th>chol</th>\n",
       "      <th>fbs</th>\n",
       "      <th>restecg</th>\n",
       "      <th>thalach</th>\n",
       "      <th>exang</th>\n",
       "      <th>oldpeak</th>\n",
       "      <th>slope</th>\n",
       "      <th>ca</th>\n",
       "      <th>thal</th>\n",
       "      <th>present</th>\n",
       "    </tr>\n",
       "  </thead>\n",
       "  <tbody>\n",
       "    <tr>\n",
       "      <th>0</th>\n",
       "      <td>1</td>\n",
       "      <td>63</td>\n",
       "      <td>1</td>\n",
       "      <td>1</td>\n",
       "      <td>145</td>\n",
       "      <td>233</td>\n",
       "      <td>1</td>\n",
       "      <td>2</td>\n",
       "      <td>150</td>\n",
       "      <td>0</td>\n",
       "      <td>2.3</td>\n",
       "      <td>3</td>\n",
       "      <td>0.0</td>\n",
       "      <td>6.0</td>\n",
       "      <td>0</td>\n",
       "    </tr>\n",
       "    <tr>\n",
       "      <th>1</th>\n",
       "      <td>2</td>\n",
       "      <td>67</td>\n",
       "      <td>1</td>\n",
       "      <td>4</td>\n",
       "      <td>160</td>\n",
       "      <td>286</td>\n",
       "      <td>0</td>\n",
       "      <td>2</td>\n",
       "      <td>108</td>\n",
       "      <td>1</td>\n",
       "      <td>1.5</td>\n",
       "      <td>2</td>\n",
       "      <td>3.0</td>\n",
       "      <td>3.0</td>\n",
       "      <td>1</td>\n",
       "    </tr>\n",
       "    <tr>\n",
       "      <th>2</th>\n",
       "      <td>3</td>\n",
       "      <td>67</td>\n",
       "      <td>1</td>\n",
       "      <td>4</td>\n",
       "      <td>120</td>\n",
       "      <td>229</td>\n",
       "      <td>0</td>\n",
       "      <td>2</td>\n",
       "      <td>129</td>\n",
       "      <td>1</td>\n",
       "      <td>2.6</td>\n",
       "      <td>2</td>\n",
       "      <td>2.0</td>\n",
       "      <td>7.0</td>\n",
       "      <td>1</td>\n",
       "    </tr>\n",
       "    <tr>\n",
       "      <th>3</th>\n",
       "      <td>4</td>\n",
       "      <td>37</td>\n",
       "      <td>1</td>\n",
       "      <td>3</td>\n",
       "      <td>130</td>\n",
       "      <td>250</td>\n",
       "      <td>0</td>\n",
       "      <td>0</td>\n",
       "      <td>187</td>\n",
       "      <td>0</td>\n",
       "      <td>3.5</td>\n",
       "      <td>3</td>\n",
       "      <td>0.0</td>\n",
       "      <td>3.0</td>\n",
       "      <td>0</td>\n",
       "    </tr>\n",
       "    <tr>\n",
       "      <th>4</th>\n",
       "      <td>5</td>\n",
       "      <td>41</td>\n",
       "      <td>0</td>\n",
       "      <td>2</td>\n",
       "      <td>130</td>\n",
       "      <td>204</td>\n",
       "      <td>0</td>\n",
       "      <td>2</td>\n",
       "      <td>172</td>\n",
       "      <td>0</td>\n",
       "      <td>1.4</td>\n",
       "      <td>1</td>\n",
       "      <td>0.0</td>\n",
       "      <td>3.0</td>\n",
       "      <td>0</td>\n",
       "    </tr>\n",
       "  </tbody>\n",
       "</table>\n",
       "</div>"
      ],
      "text/plain": [
       "   Unnamed: 0  age  sex  cp  trestbps  chol  fbs  restecg  thalach  exang  \\\n",
       "0           1   63    1   1       145   233    1        2      150      0   \n",
       "1           2   67    1   4       160   286    0        2      108      1   \n",
       "2           3   67    1   4       120   229    0        2      129      1   \n",
       "3           4   37    1   3       130   250    0        0      187      0   \n",
       "4           5   41    0   2       130   204    0        2      172      0   \n",
       "\n",
       "   oldpeak  slope   ca thal  present  \n",
       "0      2.3      3  0.0  6.0        0  \n",
       "1      1.5      2  3.0  3.0        1  \n",
       "2      2.6      2  2.0  7.0        1  \n",
       "3      3.5      3  0.0  3.0        0  \n",
       "4      1.4      1  0.0  3.0        0  "
      ]
     },
     "execution_count": 2,
     "metadata": {},
     "output_type": "execute_result"
    }
   ],
   "source": [
    "heart = pd.read_csv('heart_disease.csv')\n",
    "heart.head()"
   ]
  },
  {
   "attachments": {},
   "cell_type": "markdown",
   "metadata": {},
   "source": [
    "## Exploratory Data Analysis\n",
    "\n",
    "Let's take a first look at the data."
   ]
  },
  {
   "cell_type": "code",
   "execution_count": 3,
   "metadata": {},
   "outputs": [
    {
     "name": "stdout",
     "output_type": "stream",
     "text": [
      "<class 'pandas.core.frame.DataFrame'>\n",
      "RangeIndex: 303 entries, 0 to 302\n",
      "Data columns (total 15 columns):\n",
      " #   Column      Non-Null Count  Dtype  \n",
      "---  ------      --------------  -----  \n",
      " 0   Unnamed: 0  303 non-null    int64  \n",
      " 1   age         303 non-null    int64  \n",
      " 2   sex         303 non-null    int64  \n",
      " 3   cp          303 non-null    int64  \n",
      " 4   trestbps    303 non-null    int64  \n",
      " 5   chol        303 non-null    int64  \n",
      " 6   fbs         303 non-null    int64  \n",
      " 7   restecg     303 non-null    int64  \n",
      " 8   thalach     303 non-null    int64  \n",
      " 9   exang       303 non-null    int64  \n",
      " 10  oldpeak     303 non-null    float64\n",
      " 11  slope       303 non-null    int64  \n",
      " 12  ca          303 non-null    object \n",
      " 13  thal        303 non-null    object \n",
      " 14  present     303 non-null    int64  \n",
      "dtypes: float64(1), int64(12), object(2)\n",
      "memory usage: 35.6+ KB\n"
     ]
    }
   ],
   "source": [
    "heart.info()"
   ]
  },
  {
   "attachments": {},
   "cell_type": "markdown",
   "metadata": {},
   "source": [
    "No columns contain null values, which is a good sign. The majority of the data is numerical, with only  `ca` and `thal` being categorical.\n",
    "\n",
    "As a reminder:\n",
    "* `ca`: number of major vessels (0-3) coloured by fluoroscopy\n",
    "* `thal`: 3 = normal; 6 = fixed defect; 7 = reversible defect\n",
    "\n",
    "`ca` can be converted over to `int`. We could one-hot encode the `thal` column, but we'll leave that for now. Later, we'll graph its relationship to `present` and decide how to deal with it."
   ]
  },
  {
   "cell_type": "code",
   "execution_count": 4,
   "metadata": {},
   "outputs": [
    {
     "data": {
      "text/plain": [
       "0.0    176\n",
       "1.0     65\n",
       "2.0     38\n",
       "3.0     20\n",
       "?        4\n",
       "Name: ca, dtype: int64"
      ]
     },
     "execution_count": 4,
     "metadata": {},
     "output_type": "execute_result"
    }
   ],
   "source": [
    "heart['ca'].value_counts()"
   ]
  },
  {
   "attachments": {},
   "cell_type": "markdown",
   "metadata": {},
   "source": [
    "4 rows have `ca` as `?`. Since it's only a few rows, we'll drop them rather than trying to estimate their value. Then we'll convert `ca` to `float`."
   ]
  },
  {
   "cell_type": "code",
   "execution_count": 5,
   "metadata": {},
   "outputs": [
    {
     "data": {
      "text/plain": [
       "0.0    176\n",
       "1.0     65\n",
       "2.0     38\n",
       "3.0     20\n",
       "Name: ca, dtype: int64"
      ]
     },
     "execution_count": 5,
     "metadata": {},
     "output_type": "execute_result"
    }
   ],
   "source": [
    "# Drops questionable rows\n",
    "heart = heart[heart['ca'] != '?']\n",
    "\n",
    "# Convert ca to float\n",
    "heart['ca'] = heart['ca'].astype('float')\n",
    "heart['ca'].value_counts()"
   ]
  },
  {
   "attachments": {},
   "cell_type": "markdown",
   "metadata": {},
   "source": [
    "That looks better. Next we'll have a look at max/min values."
   ]
  },
  {
   "cell_type": "code",
   "execution_count": 6,
   "metadata": {},
   "outputs": [
    {
     "data": {
      "text/html": [
       "<div>\n",
       "<style scoped>\n",
       "    .dataframe tbody tr th:only-of-type {\n",
       "        vertical-align: middle;\n",
       "    }\n",
       "\n",
       "    .dataframe tbody tr th {\n",
       "        vertical-align: top;\n",
       "    }\n",
       "\n",
       "    .dataframe thead th {\n",
       "        text-align: right;\n",
       "    }\n",
       "</style>\n",
       "<table border=\"1\" class=\"dataframe\">\n",
       "  <thead>\n",
       "    <tr style=\"text-align: right;\">\n",
       "      <th></th>\n",
       "      <th>Unnamed: 0</th>\n",
       "      <th>age</th>\n",
       "      <th>sex</th>\n",
       "      <th>cp</th>\n",
       "      <th>trestbps</th>\n",
       "      <th>chol</th>\n",
       "      <th>fbs</th>\n",
       "      <th>restecg</th>\n",
       "      <th>thalach</th>\n",
       "      <th>exang</th>\n",
       "      <th>oldpeak</th>\n",
       "      <th>slope</th>\n",
       "      <th>ca</th>\n",
       "      <th>present</th>\n",
       "    </tr>\n",
       "  </thead>\n",
       "  <tbody>\n",
       "    <tr>\n",
       "      <th>count</th>\n",
       "      <td>299.000000</td>\n",
       "      <td>299.000000</td>\n",
       "      <td>299.000000</td>\n",
       "      <td>299.000000</td>\n",
       "      <td>299.000000</td>\n",
       "      <td>299.000000</td>\n",
       "      <td>299.000000</td>\n",
       "      <td>299.000000</td>\n",
       "      <td>299.000000</td>\n",
       "      <td>299.000000</td>\n",
       "      <td>299.000000</td>\n",
       "      <td>299.000000</td>\n",
       "      <td>299.000000</td>\n",
       "      <td>299.000000</td>\n",
       "    </tr>\n",
       "    <tr>\n",
       "      <th>mean</th>\n",
       "      <td>150.852843</td>\n",
       "      <td>54.528428</td>\n",
       "      <td>0.675585</td>\n",
       "      <td>3.160535</td>\n",
       "      <td>131.668896</td>\n",
       "      <td>247.100334</td>\n",
       "      <td>0.147157</td>\n",
       "      <td>0.996656</td>\n",
       "      <td>149.505017</td>\n",
       "      <td>0.327759</td>\n",
       "      <td>1.051839</td>\n",
       "      <td>1.602007</td>\n",
       "      <td>0.672241</td>\n",
       "      <td>0.461538</td>\n",
       "    </tr>\n",
       "    <tr>\n",
       "      <th>std</th>\n",
       "      <td>87.365535</td>\n",
       "      <td>9.020950</td>\n",
       "      <td>0.468941</td>\n",
       "      <td>0.962893</td>\n",
       "      <td>17.705668</td>\n",
       "      <td>51.914779</td>\n",
       "      <td>0.354856</td>\n",
       "      <td>0.994948</td>\n",
       "      <td>22.954927</td>\n",
       "      <td>0.470183</td>\n",
       "      <td>1.163809</td>\n",
       "      <td>0.617526</td>\n",
       "      <td>0.937438</td>\n",
       "      <td>0.499354</td>\n",
       "    </tr>\n",
       "    <tr>\n",
       "      <th>min</th>\n",
       "      <td>1.000000</td>\n",
       "      <td>29.000000</td>\n",
       "      <td>0.000000</td>\n",
       "      <td>1.000000</td>\n",
       "      <td>94.000000</td>\n",
       "      <td>126.000000</td>\n",
       "      <td>0.000000</td>\n",
       "      <td>0.000000</td>\n",
       "      <td>71.000000</td>\n",
       "      <td>0.000000</td>\n",
       "      <td>0.000000</td>\n",
       "      <td>1.000000</td>\n",
       "      <td>0.000000</td>\n",
       "      <td>0.000000</td>\n",
       "    </tr>\n",
       "    <tr>\n",
       "      <th>25%</th>\n",
       "      <td>75.500000</td>\n",
       "      <td>48.000000</td>\n",
       "      <td>0.000000</td>\n",
       "      <td>3.000000</td>\n",
       "      <td>120.000000</td>\n",
       "      <td>211.000000</td>\n",
       "      <td>0.000000</td>\n",
       "      <td>0.000000</td>\n",
       "      <td>133.000000</td>\n",
       "      <td>0.000000</td>\n",
       "      <td>0.000000</td>\n",
       "      <td>1.000000</td>\n",
       "      <td>0.000000</td>\n",
       "      <td>0.000000</td>\n",
       "    </tr>\n",
       "    <tr>\n",
       "      <th>50%</th>\n",
       "      <td>150.000000</td>\n",
       "      <td>56.000000</td>\n",
       "      <td>1.000000</td>\n",
       "      <td>3.000000</td>\n",
       "      <td>130.000000</td>\n",
       "      <td>242.000000</td>\n",
       "      <td>0.000000</td>\n",
       "      <td>1.000000</td>\n",
       "      <td>153.000000</td>\n",
       "      <td>0.000000</td>\n",
       "      <td>0.800000</td>\n",
       "      <td>2.000000</td>\n",
       "      <td>0.000000</td>\n",
       "      <td>0.000000</td>\n",
       "    </tr>\n",
       "    <tr>\n",
       "      <th>75%</th>\n",
       "      <td>226.500000</td>\n",
       "      <td>61.000000</td>\n",
       "      <td>1.000000</td>\n",
       "      <td>4.000000</td>\n",
       "      <td>140.000000</td>\n",
       "      <td>275.500000</td>\n",
       "      <td>0.000000</td>\n",
       "      <td>2.000000</td>\n",
       "      <td>165.500000</td>\n",
       "      <td>1.000000</td>\n",
       "      <td>1.600000</td>\n",
       "      <td>2.000000</td>\n",
       "      <td>1.000000</td>\n",
       "      <td>1.000000</td>\n",
       "    </tr>\n",
       "    <tr>\n",
       "      <th>max</th>\n",
       "      <td>302.000000</td>\n",
       "      <td>77.000000</td>\n",
       "      <td>1.000000</td>\n",
       "      <td>4.000000</td>\n",
       "      <td>200.000000</td>\n",
       "      <td>564.000000</td>\n",
       "      <td>1.000000</td>\n",
       "      <td>2.000000</td>\n",
       "      <td>202.000000</td>\n",
       "      <td>1.000000</td>\n",
       "      <td>6.200000</td>\n",
       "      <td>3.000000</td>\n",
       "      <td>3.000000</td>\n",
       "      <td>1.000000</td>\n",
       "    </tr>\n",
       "  </tbody>\n",
       "</table>\n",
       "</div>"
      ],
      "text/plain": [
       "       Unnamed: 0         age         sex          cp    trestbps        chol  \\\n",
       "count  299.000000  299.000000  299.000000  299.000000  299.000000  299.000000   \n",
       "mean   150.852843   54.528428    0.675585    3.160535  131.668896  247.100334   \n",
       "std     87.365535    9.020950    0.468941    0.962893   17.705668   51.914779   \n",
       "min      1.000000   29.000000    0.000000    1.000000   94.000000  126.000000   \n",
       "25%     75.500000   48.000000    0.000000    3.000000  120.000000  211.000000   \n",
       "50%    150.000000   56.000000    1.000000    3.000000  130.000000  242.000000   \n",
       "75%    226.500000   61.000000    1.000000    4.000000  140.000000  275.500000   \n",
       "max    302.000000   77.000000    1.000000    4.000000  200.000000  564.000000   \n",
       "\n",
       "              fbs     restecg     thalach       exang     oldpeak       slope  \\\n",
       "count  299.000000  299.000000  299.000000  299.000000  299.000000  299.000000   \n",
       "mean     0.147157    0.996656  149.505017    0.327759    1.051839    1.602007   \n",
       "std      0.354856    0.994948   22.954927    0.470183    1.163809    0.617526   \n",
       "min      0.000000    0.000000   71.000000    0.000000    0.000000    1.000000   \n",
       "25%      0.000000    0.000000  133.000000    0.000000    0.000000    1.000000   \n",
       "50%      0.000000    1.000000  153.000000    0.000000    0.800000    2.000000   \n",
       "75%      0.000000    2.000000  165.500000    1.000000    1.600000    2.000000   \n",
       "max      1.000000    2.000000  202.000000    1.000000    6.200000    3.000000   \n",
       "\n",
       "               ca     present  \n",
       "count  299.000000  299.000000  \n",
       "mean     0.672241    0.461538  \n",
       "std      0.937438    0.499354  \n",
       "min      0.000000    0.000000  \n",
       "25%      0.000000    0.000000  \n",
       "50%      0.000000    0.000000  \n",
       "75%      1.000000    1.000000  \n",
       "max      3.000000    1.000000  "
      ]
     },
     "execution_count": 6,
     "metadata": {},
     "output_type": "execute_result"
    }
   ],
   "source": [
    "heart.describe()"
   ]
  },
  {
   "attachments": {},
   "cell_type": "markdown",
   "metadata": {},
   "source": [
    "They all seem reasonable."
   ]
  },
  {
   "attachments": {},
   "cell_type": "markdown",
   "metadata": {},
   "source": [
    "## Choosing predictors\n",
    "\n",
    "Before we investigate correlations, lets loop back to `thal` and see how it relates to `present`."
   ]
  },
  {
   "cell_type": "code",
   "execution_count": 7,
   "metadata": {},
   "outputs": [
    {
     "data": {
      "text/plain": [
       "3.0    164\n",
       "7.0    115\n",
       "6.0     18\n",
       "?        2\n",
       "Name: thal, dtype: int64"
      ]
     },
     "execution_count": 7,
     "metadata": {},
     "output_type": "execute_result"
    }
   ],
   "source": [
    "heart['thal'].value_counts()"
   ]
  },
  {
   "attachments": {},
   "cell_type": "markdown",
   "metadata": {},
   "source": [
    "Again, we have a number of `?`. Let's drop them. After that we'll plot `thal` vs `present`, stratified by `sex`."
   ]
  },
  {
   "cell_type": "code",
   "execution_count": 8,
   "metadata": {},
   "outputs": [
    {
     "data": {
      "image/png": "[encoded data removed]",
      "text/plain": [
       "<Figure size 1000x500 with 2 Axes>"
      ]
     },
     "metadata": {},
     "output_type": "display_data"
    }
   ],
   "source": [
    "# Drops questionable rows\n",
    "heart = heart[heart['thal'] != '?']\n",
    "# Creates lists for sex\n",
    "sex = [0, 1]\n",
    "sex_name = ['Female', 'Male']\n",
    "\n",
    "# Creates a figure\n",
    "fig, ax = plt.subplots(nrows=1, ncols=2, figsize=(10, 5))\n",
    "fig.suptitle('Thal Count Coloured by Heart Disease', fontweight='bold')\n",
    "\n",
    "for i, sex in enumerate(sex):\n",
    "    data = heart[heart['sex'] == sex]\n",
    "\n",
    "    # Plots `thal` vs `present` using pd.crosstab\n",
    "    plot = pd.crosstab(data['thal'], data['present'])\n",
    "    plot.plot(kind='bar', stacked=True, ax=ax[i])\n",
    "    ax[i].set_title(sex_name[i])\n",
    "    ax[i].set_xlabel('Thal')\n",
    "    ax[i].set_ylabel('Count')\n",
    "\n",
    "plt.tight_layout()\n",
    "plt.show()\n"
   ]
  },
  {
   "attachments": {},
   "cell_type": "markdown",
   "metadata": {},
   "source": [
    "Although thal represents a categorical variable, we can see a clear increase in ratio of heart disease being present increases as we move from `3` to `7`. As such, we're going to treat it as an ordinal variable, and remap the values to 0, 1, and 2, respectively."
   ]
  },
  {
   "cell_type": "code",
   "execution_count": 9,
   "metadata": {},
   "outputs": [
    {
     "data": {
      "text/plain": [
       "0    164\n",
       "2    115\n",
       "1     18\n",
       "Name: thal, dtype: int64"
      ]
     },
     "execution_count": 9,
     "metadata": {},
     "output_type": "execute_result"
    }
   ],
   "source": [
    "# Converts thal to 0,1,2 using map\n",
    "heart['thal'] = heart['thal'].map({'3.0': 0, '6.0': 1, '7.0': 2})\n",
    "heart['thal'] = heart['thal'].astype(int)\n",
    "heart['thal'].value_counts()"
   ]
  },
  {
   "attachments": {},
   "cell_type": "markdown",
   "metadata": {},
   "source": [
    "### Plotting correlation\n",
    "\n",
    "Now we've converted `thal` to a numerical type, let's plot a heatmap of correlation. We're interested in the correlations against `present`."
   ]
  },
  {
   "cell_type": "code",
   "execution_count": 10,
   "metadata": {},
   "outputs": [
    {
     "data": {
      "image/png": "[encoded data removed]",
      "text/plain": [
       "<Figure size 800x800 with 2 Axes>"
      ]
     },
     "metadata": {},
     "output_type": "display_data"
    }
   ],
   "source": [
    "# Gets correlations and finds correlations > 0.4\n",
    "corr = heart.corr().abs()\n",
    "high_corr = corr[corr > 0.4].fillna(0)\n",
    "\n",
    "# Set up the matplotlib figure\n",
    "plt.figure(figsize=(8, 8))\n",
    "\n",
    "# Draw the heatmap\n",
    "sns.heatmap(high_corr, cmap='Reds')\n",
    "plt.title('Correlation Heatmap (Correlations > 0.4)')\n",
    "plt.show()\n"
   ]
  },
  {
   "attachments": {},
   "cell_type": "markdown",
   "metadata": {},
   "source": [
    "As we'd expected from our previous plot, `thal` shows a strong correlation with `present`. In fact, it's the highest correlated feature. Interestingly, although `sex` had a large impact on our `thal` plot, it doesn't seem to be highly correlated with `present`.\n",
    "\n",
    "Let's find the full correlation figures with `present`."
   ]
  },
  {
   "cell_type": "code",
   "execution_count": 11,
   "metadata": {},
   "outputs": [
    {
     "data": {
      "text/plain": [
       "present       1.000000\n",
       "thal          0.520516\n",
       "ca            0.463189\n",
       "oldpeak       0.424052\n",
       "thalach       0.423817\n",
       "exang         0.421355\n",
       "cp            0.408945\n",
       "slope         0.333049\n",
       "sex           0.278467\n",
       "age           0.227075\n",
       "restecg       0.166343\n",
       "trestbps      0.153490\n",
       "chol          0.080285\n",
       "Unnamed: 0    0.051891\n",
       "fbs           0.003167\n",
       "Name: present, dtype: float64"
      ]
     },
     "execution_count": 11,
     "metadata": {},
     "output_type": "execute_result"
    }
   ],
   "source": [
    "# Gets correlations with present\n",
    "corr['present'].sort_values(ascending=False)"
   ]
  },
  {
   "attachments": {},
   "cell_type": "markdown",
   "metadata": {},
   "source": [
    "Above, we can see `sex` is only a middling predictor, far below `thal`. We'll move forward with the top 5 predictors, which all have a correlation greater than 0.42."
   ]
  },
  {
   "cell_type": "code",
   "execution_count": 12,
   "metadata": {},
   "outputs": [
    {
     "data": {
      "text/plain": [
       "Index(['thalach', 'exang', 'oldpeak', 'ca', 'thal'], dtype='object')"
      ]
     },
     "execution_count": 12,
     "metadata": {},
     "output_type": "execute_result"
    }
   ],
   "source": [
    "# Drops present\n",
    "corr = corr.drop(['present'])\n",
    "\n",
    "predictors = corr['present'][corr['present'] > 0.42].index\n",
    "predictors"
   ]
  },
  {
   "attachments": {},
   "cell_type": "markdown",
   "metadata": {},
   "source": [
    "## Building the Model\n",
    "\n",
    "Now we've chosen our predictors, we can build our model. We'll start by splitting the data into training and testing sets. We'll use the [formula](https://onlinelibrary.wiley.com/action/showCitFormats?doi=10.1002%2Fsam.11583) presented in [Statistical Analysis and Data Mining: The ASA Data Science Journal](https://onlinelibrary.wiley.com/journal/19321872) to determine the size of our training and testing sets."
   ]
  },
  {
   "cell_type": "code",
   "execution_count": 13,
   "metadata": {},
   "outputs": [
    {
     "name": "stdout",
     "output_type": "stream",
     "text": [
      "test_size=0.309\n"
     ]
    }
   ],
   "source": [
    "# Splits the data\n",
    "X = heart[predictors]\n",
    "y = heart['present']\n",
    "\n",
    "# Determines test size\n",
    "p = len(predictors)\n",
    "test_size = 1 / (np.sqrt(p) + 1)\n",
    "print(f'{test_size=:.3f}')\n",
    "\n",
    "X_train, X_test, y_train, y_test = train_test_split(X, y, test_size=test_size, random_state=42)"
   ]
  },
  {
   "attachments": {},
   "cell_type": "markdown",
   "metadata": {},
   "source": [
    "Let's check the ratios of `present` in our training and testing sets."
   ]
  },
  {
   "cell_type": "code",
   "execution_count": 14,
   "metadata": {},
   "outputs": [
    {
     "data": {
      "text/plain": [
       "0    0.541463\n",
       "1    0.458537\n",
       "Name: present, dtype: float64"
      ]
     },
     "execution_count": 14,
     "metadata": {},
     "output_type": "execute_result"
    }
   ],
   "source": [
    "y_train.value_counts(normalize=True)"
   ]
  },
  {
   "cell_type": "code",
   "execution_count": 15,
   "metadata": {},
   "outputs": [
    {
     "data": {
      "text/plain": [
       "0    0.532609\n",
       "1    0.467391\n",
       "Name: present, dtype: float64"
      ]
     },
     "execution_count": 15,
     "metadata": {},
     "output_type": "execute_result"
    }
   ],
   "source": [
    "y_test.value_counts(normalize=True)"
   ]
  },
  {
   "attachments": {},
   "cell_type": "markdown",
   "metadata": {},
   "source": [
    "They're pretty similar, so we can move on.\n",
    "\n",
    "Next, we'll build the model and see how accurate our model is on the training set."
   ]
  },
  {
   "cell_type": "code",
   "execution_count": 16,
   "metadata": {},
   "outputs": [
    {
     "data": {
      "text/plain": [
       "0.824390243902439"
      ]
     },
     "execution_count": 16,
     "metadata": {},
     "output_type": "execute_result"
    }
   ],
   "source": [
    "model = LogisticRegression()\n",
    "model.fit(X_train, y_train)\n",
    "\n",
    "training_accuracy = model.score(X_train, y_train)\n",
    "training_accuracy"
   ]
  },
  {
   "attachments": {},
   "cell_type": "markdown",
   "metadata": {},
   "source": [
    "Our initial accuracy is 0.83, which is ok. However, that just gives us a general prediction and is likely to be optimistic as it's our training accuracy. Let's dig a bit deeper into how our model is doing."
   ]
  },
  {
   "attachments": {},
   "cell_type": "markdown",
   "metadata": {},
   "source": [
    "## Evaluating Model Performance\n",
    "\n",
    "We are more interested in how many false negatives there are. Since a patient classified as having heart disease will be sent to a doctor, false positives will be caught by the clinician. However, if there are high numbers of false negatives, this means patients with heart disease aren't being seen, which could lead to dangerous, or even fatal, outcomes."
   ]
  },
  {
   "cell_type": "code",
   "execution_count": 17,
   "metadata": {},
   "outputs": [
    {
     "data": {
      "image/png": "[encoded data removed]",
      "text/plain": [
       "<Figure size 640x480 with 2 Axes>"
      ]
     },
     "metadata": {},
     "output_type": "display_data"
    },
    {
     "name": "stdout",
     "output_type": "stream",
     "text": [
      "Training Sensitivity: 0.766\n",
      "Training Specificity: 0.874\n"
     ]
    }
   ],
   "source": [
    "def plot_confusion_matrix(model, X, y, stage=None):\n",
    "    ''' Plots a confusion matrix for a given model and data.'''\n",
    "    y_pred = model.predict(X)\n",
    "\n",
    "    cm = confusion_matrix(y, y_pred)\n",
    "    ConfusionMatrixDisplay(cm).plot()\n",
    "    plt.title(f'{stage} Confusion Matrix')\n",
    "    plt.show()\n",
    "\n",
    "    # Calculate TP, TN, FP, and FN\n",
    "    TN, FP, FN, TP = cm.ravel()\n",
    "\n",
    "    # Calculate sensitivity and specificity\n",
    "    sensitivity = TP / (TP + FN)\n",
    "    specificity = TN / (TN + FP)\n",
    "\n",
    "    print(f\"{stage} Sensitivity: {sensitivity:.3f}\")\n",
    "    print(f\"{stage} Specificity: {specificity:.3f}\")\n",
    "\n",
    "\n",
    "plot_confusion_matrix(model, X_train, y_train, stage='Training')"
   ]
  },
  {
   "attachments": {},
   "cell_type": "markdown",
   "metadata": {},
   "source": [
    "Here we can see our model does a reasonable job, and also that there are higher count of false negatives than there are false positives. \n",
    "\n",
    "Rather than just using counts, we've also calculated the sensitivity (a measure of true positives vs false negatives) and specificity (a measure of true negatives vs false positives).\n",
    "\n",
    "We can see that our model is ~10% better at predicting negatives than positives. What this means in practice is that there will be fewer false negatives than false positives, which is exactly what we wanted."
   ]
  },
  {
   "attachments": {},
   "cell_type": "markdown",
   "metadata": {},
   "source": [
    "### Evaluating Coefficients\n",
    "\n",
    "Next, lets look at the coefficients of our model. We initially get them in Log Odds. We'll convert these back to Odds Ratio and display both in a DataFrame."
   ]
  },
  {
   "cell_type": "code",
   "execution_count": 18,
   "metadata": {},
   "outputs": [
    {
     "data": {
      "text/html": [
       "<div>\n",
       "<style scoped>\n",
       "    .dataframe tbody tr th:only-of-type {\n",
       "        vertical-align: middle;\n",
       "    }\n",
       "\n",
       "    .dataframe tbody tr th {\n",
       "        vertical-align: top;\n",
       "    }\n",
       "\n",
       "    .dataframe thead th {\n",
       "        text-align: right;\n",
       "    }\n",
       "</style>\n",
       "<table border=\"1\" class=\"dataframe\">\n",
       "  <thead>\n",
       "    <tr style=\"text-align: right;\">\n",
       "      <th></th>\n",
       "      <th>Log Odds</th>\n",
       "      <th>Odds Ratio</th>\n",
       "    </tr>\n",
       "  </thead>\n",
       "  <tbody>\n",
       "    <tr>\n",
       "      <th>ca</th>\n",
       "      <td>1.034036</td>\n",
       "      <td>2.812394</td>\n",
       "    </tr>\n",
       "    <tr>\n",
       "      <th>thal</th>\n",
       "      <td>0.860341</td>\n",
       "      <td>2.363967</td>\n",
       "    </tr>\n",
       "    <tr>\n",
       "      <th>exang</th>\n",
       "      <td>0.776374</td>\n",
       "      <td>2.173576</td>\n",
       "    </tr>\n",
       "    <tr>\n",
       "      <th>oldpeak</th>\n",
       "      <td>0.422240</td>\n",
       "      <td>1.525374</td>\n",
       "    </tr>\n",
       "    <tr>\n",
       "      <th>thalach</th>\n",
       "      <td>-0.018100</td>\n",
       "      <td>0.982063</td>\n",
       "    </tr>\n",
       "  </tbody>\n",
       "</table>\n",
       "</div>"
      ],
      "text/plain": [
       "         Log Odds  Odds Ratio\n",
       "ca       1.034036    2.812394\n",
       "thal     0.860341    2.363967\n",
       "exang    0.776374    2.173576\n",
       "oldpeak  0.422240    1.525374\n",
       "thalach -0.018100    0.982063"
      ]
     },
     "execution_count": 18,
     "metadata": {},
     "output_type": "execute_result"
    }
   ],
   "source": [
    "# Get coefficients\n",
    "coefs = model.coef_\n",
    "\n",
    "# Transpose coefs array\n",
    "coefs = coefs.T\n",
    "\n",
    "# Create DataFrame with coefficients and predictor names\n",
    "df_coefs = pd.DataFrame(coefs, index=predictors, columns=['Log Odds']).sort_values(by='Log Odds', ascending=False)\n",
    "df_coefs['Odds Ratio'] = np.exp(df_coefs['Log Odds'])\n",
    "\n",
    "df_coefs\n"
   ]
  },
  {
   "attachments": {},
   "cell_type": "markdown",
   "metadata": {},
   "source": [
    "These are the increase in odds of a binary switch in our target variable, controlling for all other variables. Or in plain language, its the change in odds for having heart disease for an increase in that predictor, with all other predictors staying the same. The higher the odds, the more likely we are to have heart disease.\n",
    "\n",
    "For a reminder, here's the information on our predictors.\n",
    "* `ca`: number of major vessels (0-3) coloured by fluoroscopy\n",
    "* `thal`: 3 = normal; 6 = fixed defect; 7 = reversible defect (mapped to an ordinal variable as 0-2)\n",
    "* `exang`: exercise induced angina (1 = yes; 0 = no)\n",
    "* `oldpeak`: ST depression induced by exercise relative to rest\n",
    "* `thalach`: maximum heart rate achieved\n",
    "\n",
    "Most of them have high odds ratio, meaning if they're present, they're more likely to have heart disease. This makes sense given the nature of our predictors.\n",
    "\n",
    "`thalach` has an odds ratio below 1, which means increasing `thalach` *decreases* the odds of having heart disease. Again, looking at what this predictor measures, this makes sense. In general, healthier hearts can hit higher max heart rates than unhealthy ones. Although the ratio is closer to 1, the range of values for `thalach` are much wider than our other variables (71-202 BMP) with every BPM increasing or decreasing the odds of having heart disease. "
   ]
  },
  {
   "attachments": {},
   "cell_type": "markdown",
   "metadata": {},
   "source": [
    "## Final Model Evaluation\n",
    "\n",
    "Now we've dug further into how the model's worked. Let's see how it performs with our test set."
   ]
  },
  {
   "cell_type": "code",
   "execution_count": 19,
   "metadata": {},
   "outputs": [
    {
     "name": "stdout",
     "output_type": "stream",
     "text": [
      "Training Accuracy: 0.824\n",
      "Test Accuracy: 0.870\n"
     ]
    }
   ],
   "source": [
    "test_accuracy = model.score(X_test, y_test)\n",
    "\n",
    "print(f'Training Accuracy: {training_accuracy:.3f}')\n",
    "print(f'Test Accuracy: {test_accuracy:.3f}')"
   ]
  },
  {
   "attachments": {},
   "cell_type": "markdown",
   "metadata": {},
   "source": [
    "Our accuracy is higher than in training. We expect our training accuracy to be optimistic, so that's a bit of a surprise.\n",
    "\n",
    "Before we get too excited, lets look at our confusion matrix, as we have identified false negatives as the most important measure in our case."
   ]
  },
  {
   "cell_type": "code",
   "execution_count": 20,
   "metadata": {},
   "outputs": [
    {
     "data": {
      "image/png": "[encoded data removed]",
      "text/plain": [
       "<Figure size 640x480 with 2 Axes>"
      ]
     },
     "metadata": {},
     "output_type": "display_data"
    },
    {
     "name": "stdout",
     "output_type": "stream",
     "text": [
      "Test Sensitivity: 0.814\n",
      "Test Specificity: 0.918\n"
     ]
    }
   ],
   "source": [
    "plot_confusion_matrix(model, X_test, y_test, stage='Test')"
   ]
  },
  {
   "attachments": {},
   "cell_type": "markdown",
   "metadata": {},
   "source": [
    "Sensitivity and specificity are also improved, which is brilliant. And, more importantly, our model still predicts negative diagnoses the best. As we said before, false positives are less of an issue as these patients would be directed to a clinician who could spot our mistake.\n",
    "\n",
    "As it stands, our model is accurate 91.8% of the time when predicting a patient does not have heart disease. That may not be high enough to replace a trained clinician, but it could be used to bulk analyze patient data to prioritise care. In this usage, it would work very well, assuming patients had the right data available.\n",
    "\n",
    "One next step could be to talk to a clinician to see which features are widely measured, and build a model using these. This would give us the widest applicability.\n",
    "\n",
    "Or, if we wanted to build a more accurate model, we could investigate any combination of the following:\n",
    "* Using different predictors\n",
    "* Using a different number of predictors\n",
    "* Using different models\n",
    "* Scaling our data\n",
    "* Using different training and testing sizes"
   ]
  }
 ],
 "metadata": {
  "kernelspec": {
   "display_name": "base",
   "language": "python",
   "name": "python3"
  },
  "language_info": {
   "codemirror_mode": {
    "name": "ipython",
    "version": 3
   },
   "file_extension": ".py",
   "mimetype": "text/x-python",
   "name": "python",
   "nbconvert_exporter": "python",
   "pygments_lexer": "ipython3",
   "version": "3.9.17"
  },
  "orig_nbformat": 4
 },
 "nbformat": 4,
 "nbformat_minor": 2
}
